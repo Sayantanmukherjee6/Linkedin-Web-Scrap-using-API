{
 "cells": [
  {
   "cell_type": "markdown",
   "metadata": {},
   "source": [
    "# Linkedin Web Scrap using Linkedin API and Normal Web Scrapping technique\n",
    "\n",
    "### References:\n",
    "\n",
    "1. https://github.com/AkshayAgarwal007/LinkedinScrapper\n",
    "2. https://github.com/toxtli/linkedin-profile-scraper\n",
    "\n",
    "Profile url and Profile Names are saved in p_url.txt and p_org.txt. Incase if you donot want to scrap google you cant directly import that list from those two text file."
   ]
  },
  {
   "cell_type": "code",
   "execution_count": 1,
   "metadata": {
    "collapsed": true
   },
   "outputs": [],
   "source": [
    "from selenium import webdriver\n",
    "import pandas as pd\n",
    "from difflib import get_close_matches\n",
    "from LinkedinController import LinkedinController\n",
    "from searchController import *\n",
    "from linkedin import linkedin\n",
    "import xlrd,json,pickle\n",
    "\n",
    "\n",
    "#Linkedin API Keys\n",
    "API_KEY = '8153tlhgbb18mj'\n",
    "API_SECRET = 'U8HDMPN8TrnI6oNj'\n",
    "RETURN_URL = 'http://localhost:8000'"
   ]
  },
  {
   "cell_type": "code",
   "execution_count": 2,
   "metadata": {
    "collapsed": true
   },
   "outputs": [],
   "source": [
    "# Function used to find best matching profile url\n",
    "def urlMatch(titles_urls, name):\n",
    "    links = []\n",
    "    titles= []\n",
    "    for item in titles_urls:\n",
    "        if \"linkedin.com/in/\" in item[1]:\n",
    "            titles.append(item[0].split('|')[0].strip())\n",
    "            links.append(item[1])\n",
    "    if titles == []: return None\n",
    "    elif len(titles)==1: return links[0]\n",
    "    else:\n",
    "        best_match = get_close_matches(name,titles,n=1)\n",
    "        if best_match == []:\n",
    "            return None\n",
    "        else:\n",
    "            return links[titles.index(best_match[0])]\n",
    "        \n",
    "def url_scrap(search,name):\n",
    "    br = start_browser()\n",
    "    temp1 = [] # Url of linkedin profile will be stored here\n",
    "    temp2=[]    #Name ,position and company name of linkedin members will be sored here\n",
    "\n",
    "    for index, query in enumerate(search):\n",
    "        go_to_page(br, query)\n",
    "        titles_urls = scrape_results(br)\n",
    "        if titles_urls == []:\n",
    "            temp1.append(None)\n",
    "            temp2.append(None)\n",
    "        else:\n",
    "            best_match = urlMatch (titles_urls, name[index])\n",
    "            temp1.append(best_match)\n",
    "            temp2.append(query)\n",
    "            \n",
    "    return temp1,temp2"
   ]
  },
  {
   "cell_type": "code",
   "execution_count": 3,
   "metadata": {
    "collapsed": false
   },
   "outputs": [],
   "source": [
    "# To avoid Google recaptcha we are dividing our search query into 10 chunks which we will search \n",
    "# separately\n",
    "\n",
    "sh = xlrd.open_workbook('dataset/Linkedin search input.xlsx').sheet_by_index(0) #input data\n",
    "searchList= [] # list of Search query will be stored here by parsing the excel sheet\n",
    "names= [] # list of names will be stored here by parsing the excel sheet\n",
    "\n",
    "for rownum in range(1,sh.nrows):\n",
    "    tmp = u' '.join((sh.cell(rownum, 2).value,sh.cell(rownum, 1).value)).encode('utf-8').strip()\n",
    "    name = u' '.join((sh.cell(rownum, 3).value,sh.cell(rownum, 5).value)).encode('utf-8').strip()\n",
    "    searchList.append(tmp)\n",
    "    names.append(name)    \n",
    "\n",
    "# preprocessing data\n",
    "\n",
    "new_searchList=[]\n",
    "for each in searchList:\n",
    "    if '&' in each:\n",
    "        new_searchList.append(each.replace('&', 'and'))\n",
    "    elif ';' in each:\n",
    "        new_searchList.append(each.replace(';', ''))\n",
    "    else:\n",
    "        new_searchList.append(each)\n",
    "        \n",
    "search_chunk = [new_searchList[x:x+20] for x in xrange(0, len(new_searchList), 20)]\n",
    "name_chunk= [names[x:x+20] for x in xrange(0, len(names), 20)]       "
   ]
  },
  {
   "cell_type": "code",
   "execution_count": 5,
   "metadata": {
    "collapsed": false
   },
   "outputs": [],
   "source": [
    "profile_url_0,profile_org_0=url_scrap(search_chunk[0],name_chunk[0])"
   ]
  },
  {
   "cell_type": "code",
   "execution_count": 6,
   "metadata": {
    "collapsed": false,
    "scrolled": true
   },
   "outputs": [],
   "source": [
    "profile_url_1,profile_org_1=url_scrap(search_chunk[1],name_chunk[1])"
   ]
  },
  {
   "cell_type": "code",
   "execution_count": 7,
   "metadata": {
    "collapsed": false
   },
   "outputs": [],
   "source": [
    "profile_url_2,profile_org_2=url_scrap(search_chunk[2],name_chunk[2])"
   ]
  },
  {
   "cell_type": "code",
   "execution_count": 8,
   "metadata": {
    "collapsed": false
   },
   "outputs": [],
   "source": [
    "profile_url_3,profile_org_3=url_scrap(search_chunk[3],name_chunk[3])"
   ]
  },
  {
   "cell_type": "code",
   "execution_count": 9,
   "metadata": {
    "collapsed": false
   },
   "outputs": [],
   "source": [
    "profile_url_4,profile_org_4=url_scrap(search_chunk[4],name_chunk[4])"
   ]
  },
  {
   "cell_type": "code",
   "execution_count": 10,
   "metadata": {
    "collapsed": false
   },
   "outputs": [],
   "source": [
    "profile_url_5,profile_org_5=url_scrap(search_chunk[5],name_chunk[5])"
   ]
  },
  {
   "cell_type": "code",
   "execution_count": 11,
   "metadata": {
    "collapsed": false
   },
   "outputs": [],
   "source": [
    "profile_url_6,profile_org_6=url_scrap(search_chunk[6],name_chunk[6])"
   ]
  },
  {
   "cell_type": "code",
   "execution_count": 12,
   "metadata": {
    "collapsed": false
   },
   "outputs": [],
   "source": [
    "profile_url_7,profile_org_7=url_scrap(search_chunk[7],name_chunk[7])"
   ]
  },
  {
   "cell_type": "code",
   "execution_count": 13,
   "metadata": {
    "collapsed": true
   },
   "outputs": [],
   "source": [
    "profile_url_8,profile_org_8=url_scrap(search_chunk[8],name_chunk[8])"
   ]
  },
  {
   "cell_type": "code",
   "execution_count": 14,
   "metadata": {
    "collapsed": true
   },
   "outputs": [],
   "source": [
    "profile_url_9,profile_org_9=url_scrap(search_chunk[9],name_chunk[9])"
   ]
  },
  {
   "cell_type": "code",
   "execution_count": 15,
   "metadata": {
    "collapsed": true
   },
   "outputs": [],
   "source": [
    "profile_url_10,profile_org_10=url_scrap(search_chunk[10],name_chunk[10])"
   ]
  },
  {
   "cell_type": "code",
   "execution_count": 16,
   "metadata": {
    "collapsed": true
   },
   "outputs": [],
   "source": [
    "profile_url=profile_url_0+profile_url_1+profile_url_2+profile_url_3+profile_url_4+profile_url_5+profile_url_6+profile_url_7+profile_url_8+profile_url_9+profile_url_10\n",
    "profile_org=profile_org_0+profile_org_1+profile_org_2+profile_org_3+profile_org_4+profile_org_5+profile_org_6+profile_org_7+profile_org_8+profile_org_9+profile_org_10"
   ]
  },
  {
   "cell_type": "code",
   "execution_count": 17,
   "metadata": {
    "collapsed": true
   },
   "outputs": [],
   "source": [
    "#Saving profile_url and profile_org as text file using pickle\n",
    "with open('p_url.txt', 'wb') as fp:\n",
    "    pickle.dump(profile_url, fp)\n",
    "with open('p_org.txt', 'wb') as fp:\n",
    "    pickle.dump(profile_org, fp)"
   ]
  },
  {
   "cell_type": "code",
   "execution_count": 73,
   "metadata": {
    "collapsed": false
   },
   "outputs": [],
   "source": [
    "with open ('p_url.txt', 'rb') as fp:\n",
    "    profile_url = pickle.load(fp)\n",
    "with open ('p_org.txt', 'rb') as fp:\n",
    "    profile_org = pickle.load(fp)\n"
   ]
  },
  {
   "cell_type": "code",
   "execution_count": 89,
   "metadata": {
    "collapsed": false
   },
   "outputs": [],
   "source": [
    "# Removing None values from the list\n",
    "new_profile_urls=[]\n",
    "new_profile_org=[]\n",
    "for each in range(len(profile_url)):\n",
    "    if profile_url[each]!=None:\n",
    "        new_profile_urls.append(profile_url[each])\n",
    "        new_profile_org.append(profile_org[each])"
   ]
  },
  {
   "cell_type": "markdown",
   "metadata": {},
   "source": [
    "API Based data Scrapping :"
   ]
  },
  {
   "cell_type": "code",
   "execution_count": 4,
   "metadata": {
    "collapsed": false
   },
   "outputs": [
    {
     "name": "stdout",
     "output_type": "stream",
     "text": [
      "https://www.linkedin.com/uas/oauth2/authorization?scope=&state=f62d50b9bdec15dc72820f173b8c63ef&redirect_uri=http%3A//localhost%3A8000&response_type=code&client_id=8153tlhgbb18mj\n"
     ]
    }
   ],
   "source": [
    "authentication = linkedin.LinkedInAuthentication(API_KEY, API_SECRET, RETURN_URL)\n",
    "print authentication.authorization_url"
   ]
  },
  {
   "cell_type": "code",
   "execution_count": 5,
   "metadata": {
    "collapsed": false
   },
   "outputs": [
    {
     "data": {
      "text/plain": [
       "AccessToken(access_token=u'AQXc3W77Aniox_LLeLx0tyO8fOkeTHZyy50w-G2V1X9Z0ZPDesdOnlxKDxM92wH8lC98COTW23bfBI7NG1tfn3-y8UgtrhoySGjb0sRbXtjgco5LK1fndUf9kld5DE0RMp-_8tLmtLYzXXVGkjYO_S-HHxdsQV5AtyMoxkQnuXht9GkmffY', expires_in=5183999)"
      ]
     },
     "execution_count": 5,
     "metadata": {},
     "output_type": "execute_result"
    }
   ],
   "source": [
    "authentication.authorization_code ='AQShgzfbfCseh2fIsRKBd7Y6V_OCH-fAQDSPesspe47hs_xneeq5bWj6QnT_gGIAqXvAO_iqc0fDmRqYGdeiwLsm5-2IEZMC-nynqEGKDAuaMleI-9A'\n",
    "authentication.get_access_token()"
   ]
  },
  {
   "cell_type": "code",
   "execution_count": 21,
   "metadata": {
    "collapsed": false
   },
   "outputs": [
    {
     "name": "stdout",
     "output_type": "stream",
     "text": [
      "5\n",
      "5\n"
     ]
    }
   ],
   "source": [
    "application = linkedin.LinkedInApplication(authentication)\n",
    "api_data=[] # profile data from linkedin api is stored here\n",
    "for each in new_profile_urls:\n",
    "    try:\n",
    "        a=application.get_profile(member_url=str(each),selectors=['id','first-name','last-name','formatted-name','headline','location','industry','current-share','num-connections','num-connections-capped','summary','picture-url','picture-urls::(original)','site-standard-profile-request','api-standard-profile-request'])\n",
    "        api_data.append(a)\n",
    "    except:\n",
    "        print new_profile_urls.index(each) "
   ]
  },
  {
   "cell_type": "code",
   "execution_count": 22,
   "metadata": {
    "collapsed": false
   },
   "outputs": [],
   "source": [
    "df_api=pd.DataFrame(api_data)"
   ]
  },
  {
   "cell_type": "markdown",
   "metadata": {},
   "source": [
    "After a big digging up It is evident that u'https://www.linkedin.com/in/mike-sharp-18232135/de' link\n",
    "Was creating a problem. So we need to edit new_profile_urls and new_profile_orgs list. "
   ]
  },
  {
   "cell_type": "code",
   "execution_count": 91,
   "metadata": {
    "collapsed": false
   },
   "outputs": [],
   "source": [
    "#Deleting 5 th and 6 th element from new_profile_urls and new_profile_orgs\n",
    "del new_profile_urls[5:7]\n",
    "del new_profile_org[5:7]"
   ]
  },
  {
   "cell_type": "code",
   "execution_count": 93,
   "metadata": {
    "collapsed": false
   },
   "outputs": [
    {
     "data": {
      "text/plain": [
       "114"
      ]
     },
     "execution_count": 93,
     "metadata": {},
     "output_type": "execute_result"
    }
   ],
   "source": [
    "len(new_profile_org)"
   ]
  },
  {
   "cell_type": "code",
   "execution_count": 94,
   "metadata": {
    "collapsed": false
   },
   "outputs": [],
   "source": [
    "url_df=pd.DataFrame({'Linkedin Profile Link':new_profile_urls})\n",
    "prof_df= pd.DataFrame({'Name,Designation and Company':new_profile_org})"
   ]
  },
  {
   "cell_type": "code",
   "execution_count": 95,
   "metadata": {
    "collapsed": true
   },
   "outputs": [],
   "source": [
    "#Merging three dataframes\n",
    "result = pd.concat([prof_df,url_df,df_api], axis=1) #final result"
   ]
  },
  {
   "cell_type": "code",
   "execution_count": 98,
   "metadata": {
    "collapsed": false,
    "scrolled": true
   },
   "outputs": [
    {
     "data": {
      "text/html": [
       "<div>\n",
       "<table border=\"1\" class=\"dataframe\">\n",
       "  <thead>\n",
       "    <tr style=\"text-align: right;\">\n",
       "      <th></th>\n",
       "      <th>Name,Designation and Company</th>\n",
       "      <th>Linkedin Profile Link</th>\n",
       "      <th>apiStandardProfileRequest</th>\n",
       "      <th>currentShare</th>\n",
       "      <th>firstName</th>\n",
       "      <th>formattedName</th>\n",
       "      <th>headline</th>\n",
       "      <th>id</th>\n",
       "      <th>industry</th>\n",
       "      <th>lastName</th>\n",
       "      <th>location</th>\n",
       "      <th>numConnections</th>\n",
       "      <th>numConnectionsCapped</th>\n",
       "      <th>pictureUrl</th>\n",
       "      <th>pictureUrls</th>\n",
       "      <th>siteStandardProfileRequest</th>\n",
       "    </tr>\n",
       "  </thead>\n",
       "  <tbody>\n",
       "    <tr>\n",
       "      <th>0</th>\n",
       "      <td>Chris Mason - Director of Corporate Communicat...</td>\n",
       "      <td>https://www.linkedin.com/in/masoncdm</td>\n",
       "      <td>{u'url': u'https://api.linkedin.com/v1/people/...</td>\n",
       "      <td>{u'comment': u'Who helped transform an abandon...</td>\n",
       "      <td>Chris</td>\n",
       "      <td>Chris Mason</td>\n",
       "      <td>Corporate and Marketing Communications Profess...</td>\n",
       "      <td>VjR3GPEfUI</td>\n",
       "      <td>Marketing and Advertising</td>\n",
       "      <td>Mason</td>\n",
       "      <td>{u'country': {u'code': u'us'}, u'name': u'Grea...</td>\n",
       "      <td>500.0</td>\n",
       "      <td>True</td>\n",
       "      <td>NaN</td>\n",
       "      <td>{u'_total': 0}</td>\n",
       "      <td>{u'url': u'https://www.linkedin.com/profile/vi...</td>\n",
       "    </tr>\n",
       "    <tr>\n",
       "      <th>1</th>\n",
       "      <td>Chris Mason - Director of Corporate Communicat...</td>\n",
       "      <td>https://www.linkedin.com/in/masoncdm</td>\n",
       "      <td>{u'url': u'https://api.linkedin.com/v1/people/...</td>\n",
       "      <td>{u'comment': u'Who helped transform an abandon...</td>\n",
       "      <td>Chris</td>\n",
       "      <td>Chris Mason</td>\n",
       "      <td>Corporate and Marketing Communications Profess...</td>\n",
       "      <td>VjR3GPEfUI</td>\n",
       "      <td>Marketing and Advertising</td>\n",
       "      <td>Mason</td>\n",
       "      <td>{u'country': {u'code': u'us'}, u'name': u'Grea...</td>\n",
       "      <td>500.0</td>\n",
       "      <td>True</td>\n",
       "      <td>NaN</td>\n",
       "      <td>{u'_total': 0}</td>\n",
       "      <td>{u'url': u'https://www.linkedin.com/profile/vi...</td>\n",
       "    </tr>\n",
       "    <tr>\n",
       "      <th>2</th>\n",
       "      <td>Chris Mason - Director of Corporate Communicat...</td>\n",
       "      <td>https://www.linkedin.com/in/masoncdm</td>\n",
       "      <td>{u'url': u'https://api.linkedin.com/v1/people/...</td>\n",
       "      <td>{u'comment': u'Who helped transform an abandon...</td>\n",
       "      <td>Chris</td>\n",
       "      <td>Chris Mason</td>\n",
       "      <td>Corporate and Marketing Communications Profess...</td>\n",
       "      <td>VjR3GPEfUI</td>\n",
       "      <td>Marketing and Advertising</td>\n",
       "      <td>Mason</td>\n",
       "      <td>{u'country': {u'code': u'us'}, u'name': u'Grea...</td>\n",
       "      <td>500.0</td>\n",
       "      <td>True</td>\n",
       "      <td>NaN</td>\n",
       "      <td>{u'_total': 0}</td>\n",
       "      <td>{u'url': u'https://www.linkedin.com/profile/vi...</td>\n",
       "    </tr>\n",
       "  </tbody>\n",
       "</table>\n",
       "</div>"
      ],
      "text/plain": [
       "                        Name,Designation and Company  \\\n",
       "0  Chris Mason - Director of Corporate Communicat...   \n",
       "1  Chris Mason - Director of Corporate Communicat...   \n",
       "2  Chris Mason - Director of Corporate Communicat...   \n",
       "\n",
       "                  Linkedin Profile Link  \\\n",
       "0  https://www.linkedin.com/in/masoncdm   \n",
       "1  https://www.linkedin.com/in/masoncdm   \n",
       "2  https://www.linkedin.com/in/masoncdm   \n",
       "\n",
       "                           apiStandardProfileRequest  \\\n",
       "0  {u'url': u'https://api.linkedin.com/v1/people/...   \n",
       "1  {u'url': u'https://api.linkedin.com/v1/people/...   \n",
       "2  {u'url': u'https://api.linkedin.com/v1/people/...   \n",
       "\n",
       "                                        currentShare firstName formattedName  \\\n",
       "0  {u'comment': u'Who helped transform an abandon...     Chris   Chris Mason   \n",
       "1  {u'comment': u'Who helped transform an abandon...     Chris   Chris Mason   \n",
       "2  {u'comment': u'Who helped transform an abandon...     Chris   Chris Mason   \n",
       "\n",
       "                                            headline          id  \\\n",
       "0  Corporate and Marketing Communications Profess...  VjR3GPEfUI   \n",
       "1  Corporate and Marketing Communications Profess...  VjR3GPEfUI   \n",
       "2  Corporate and Marketing Communications Profess...  VjR3GPEfUI   \n",
       "\n",
       "                    industry lastName  \\\n",
       "0  Marketing and Advertising    Mason   \n",
       "1  Marketing and Advertising    Mason   \n",
       "2  Marketing and Advertising    Mason   \n",
       "\n",
       "                                            location  numConnections  \\\n",
       "0  {u'country': {u'code': u'us'}, u'name': u'Grea...           500.0   \n",
       "1  {u'country': {u'code': u'us'}, u'name': u'Grea...           500.0   \n",
       "2  {u'country': {u'code': u'us'}, u'name': u'Grea...           500.0   \n",
       "\n",
       "  numConnectionsCapped pictureUrl     pictureUrls  \\\n",
       "0                 True        NaN  {u'_total': 0}   \n",
       "1                 True        NaN  {u'_total': 0}   \n",
       "2                 True        NaN  {u'_total': 0}   \n",
       "\n",
       "                          siteStandardProfileRequest  \n",
       "0  {u'url': u'https://www.linkedin.com/profile/vi...  \n",
       "1  {u'url': u'https://www.linkedin.com/profile/vi...  \n",
       "2  {u'url': u'https://www.linkedin.com/profile/vi...  "
      ]
     },
     "execution_count": 98,
     "metadata": {},
     "output_type": "execute_result"
    }
   ],
   "source": [
    "result.head(3)"
   ]
  },
  {
   "cell_type": "code",
   "execution_count": 105,
   "metadata": {
    "collapsed": true
   },
   "outputs": [],
   "source": [
    "result.to_csv('dataset/result2.csv', sep=',', encoding='utf-8')"
   ]
  },
  {
   "cell_type": "code",
   "execution_count": null,
   "metadata": {
    "collapsed": true
   },
   "outputs": [],
   "source": []
  },
  {
   "cell_type": "code",
   "execution_count": null,
   "metadata": {
    "collapsed": true
   },
   "outputs": [],
   "source": []
  },
  {
   "cell_type": "markdown",
   "metadata": {},
   "source": [
    "Non api based data scraping :"
   ]
  },
  {
   "cell_type": "code",
   "execution_count": null,
   "metadata": {
    "collapsed": false
   },
   "outputs": [],
   "source": [
    "#Since I couldnot fetch summary and Current industry of linkedin profiles via api. So I will use\n",
    "# web scraping techniques without api to get them\n",
    "profile_scrap=[]\n",
    "linkedinTool = LinkedinController()\n",
    "for each in new_profile_urls:\n",
    "    url = str(each)\n",
    "    profile_scrap.append(linkedinTool.extractProfile(url))\n",
    "    \n",
    "summ=[] # Linkedin profile summary will be stored here\n",
    "cur=[] #Linkedin profile Current insudtry will be stored here\n",
    "for each in profile_scrap:\n",
    "    summ.append(each['SUMMARY'])\n",
    "    cur.append(each['BRIEF_CURRENT'])\n",
    "    \n",
    "scrap_df= pd.DataFrame({'summary':summ, 'industry':cur,})"
   ]
  },
  {
   "cell_type": "code",
   "execution_count": null,
   "metadata": {
    "collapsed": true
   },
   "outputs": [],
   "source": [
    "scrap_df"
   ]
  },
  {
   "cell_type": "code",
   "execution_count": null,
   "metadata": {
    "collapsed": false
   },
   "outputs": [],
   "source": [
    "#Merged the final scraped dataframe with previous result\n",
    "result_final = pd.concat([result, scrap_df], axis=1)"
   ]
  },
  {
   "cell_type": "code",
   "execution_count": null,
   "metadata": {
    "collapsed": false
   },
   "outputs": [],
   "source": [
    "result_final.head(1)"
   ]
  }
 ],
 "metadata": {
  "kernelspec": {
   "display_name": "Python 2",
   "language": "python",
   "name": "python2"
  },
  "language_info": {
   "codemirror_mode": {
    "name": "ipython",
    "version": 2
   },
   "file_extension": ".py",
   "mimetype": "text/x-python",
   "name": "python",
   "nbconvert_exporter": "python",
   "pygments_lexer": "ipython2",
   "version": "2.7.12"
  }
 },
 "nbformat": 4,
 "nbformat_minor": 0
}
